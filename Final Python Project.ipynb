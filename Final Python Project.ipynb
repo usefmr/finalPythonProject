{
 "cells": [
  {
   "cell_type": "markdown",
   "id": "b71e01f2-c0a1-4009-9c2d-9f6408ea0753",
   "metadata": {},
   "source": [
    "Final Python Project"
   ]
  },
  {
   "cell_type": "code",
   "execution_count": null,
   "id": "b0f16d26-268c-4820-a491-68dc0cb27e87",
   "metadata": {},
   "outputs": [
    {
     "name": "stdout",
     "output_type": "stream",
     "text": [
      "\n",
      "--- Employee Manager ---\n",
      "1. Add Employee\n",
      "2. View All Employees\n",
      "3. Update Employee\n",
      "4. Delete Employee\n",
      "5. Search Employee\n",
      "6. Exit\n"
     ]
    },
    {
     "name": "stdin",
     "output_type": "stream",
     "text": [
      "Enter choice:  1\n",
      "enter employee ID:  23\n",
      "enter name:  youssef\n",
      "enter position:  IT\n",
      "enter salary:  900\n",
      "enter email:  okokok\n"
     ]
    },
    {
     "name": "stdout",
     "output_type": "stream",
     "text": [
      "Employee added successfully.\n",
      "\n",
      "--- Employee Manager ---\n",
      "1. Add Employee\n",
      "2. View All Employees\n",
      "3. Update Employee\n",
      "4. Delete Employee\n",
      "5. Search Employee\n",
      "6. Exit\n"
     ]
    },
    {
     "name": "stdin",
     "output_type": "stream",
     "text": [
      "Enter choice:  1\n",
      "enter employee ID:  122\n",
      "enter name:  okok\n",
      "enter position:  plpl\n",
      "enter salary:  9000\n",
      "enter email:  dsfg\n"
     ]
    },
    {
     "name": "stdout",
     "output_type": "stream",
     "text": [
      "Employee added successfully.\n",
      "\n",
      "--- Employee Manager ---\n",
      "1. Add Employee\n",
      "2. View All Employees\n",
      "3. Update Employee\n",
      "4. Delete Employee\n",
      "5. Search Employee\n",
      "6. Exit\n"
     ]
    },
    {
     "name": "stdin",
     "output_type": "stream",
     "text": [
      "Enter choice:  2\n"
     ]
    },
    {
     "name": "stdout",
     "output_type": "stream",
     "text": [
      "ID: 12\n",
      "name: wfed\n",
      "position: wfed\n",
      "salary: 231\n",
      "email: wfg\n",
      "ID: 121\n",
      "name: wfead\n",
      "position: sgadr\n",
      "salary: 32232\n",
      "email: sdfg\n",
      "ID: 23\n",
      "name: youssef\n",
      "position: IT\n",
      "salary: 900\n",
      "email: okokok\n",
      "ID: 122\n",
      "name: okok\n",
      "position: plpl\n",
      "salary: 9000\n",
      "email: dsfg\n",
      "\n",
      "--- Employee Manager ---\n",
      "1. Add Employee\n",
      "2. View All Employees\n",
      "3. Update Employee\n",
      "4. Delete Employee\n",
      "5. Search Employee\n",
      "6. Exit\n"
     ]
    },
    {
     "name": "stdin",
     "output_type": "stream",
     "text": [
      "Enter choice:  3\n",
      "enter the ID of the employee you want to update:  23\n"
     ]
    },
    {
     "name": "stdout",
     "output_type": "stream",
     "text": [
      "press enter to skip a field without updating it\n"
     ]
    },
    {
     "name": "stdin",
     "output_type": "stream",
     "text": [
      "enter new name (youssef):  \n",
      "enter new position (IT):  \n",
      "enter new salary (900):  899\n",
      "enter new email (okokok):  \n"
     ]
    },
    {
     "name": "stdout",
     "output_type": "stream",
     "text": [
      "employee data updated successfully.\n",
      "\n",
      "--- Employee Manager ---\n",
      "1. Add Employee\n",
      "2. View All Employees\n",
      "3. Update Employee\n",
      "4. Delete Employee\n",
      "5. Search Employee\n",
      "6. Exit\n"
     ]
    },
    {
     "name": "stdin",
     "output_type": "stream",
     "text": [
      "Enter choice:  5\n",
      "enter employee ID to search:  23\n"
     ]
    },
    {
     "name": "stdout",
     "output_type": "stream",
     "text": [
      "ID: 23\n",
      "name: youssef\n",
      "position: IT\n",
      "salary: 899\n",
      "email: okokok\n",
      "\n",
      "--- Employee Manager ---\n",
      "1. Add Employee\n",
      "2. View All Employees\n",
      "3. Update Employee\n",
      "4. Delete Employee\n",
      "5. Search Employee\n",
      "6. Exit\n"
     ]
    },
    {
     "name": "stdin",
     "output_type": "stream",
     "text": [
      "Enter choice:  4\n"
     ]
    }
   ],
   "source": [
    "import csv\n",
    "\n",
    "class EmployeeManager:\n",
    "    def __init__(self, filename=\"employees.csv\"):\n",
    "        self.filename = filename\n",
    "        self.employees = {}\n",
    "        self.loadData()\n",
    "    \n",
    "    def loadData(self):\n",
    "        try:\n",
    "            with open(self.filename, mode=\"r\") as f:\n",
    "                reader = csv.DictReader(f)\n",
    "                for row in reader:\n",
    "                    self.employees[row[\"ID\"]] = {\n",
    "                        \"name\": row[\"name\"],\n",
    "                        \"position\": row[\"position\"],\n",
    "                        \"salary\": row[\"salary\"],\n",
    "                        \"email\": row[\"email\"]\n",
    "                    }\n",
    "        except FileNotFoundError:\n",
    "            self.employees = {}\n",
    "\n",
    "    def saveData(self):\n",
    "        with open(self.filename, mode=\"w\", newline=\"\") as f:\n",
    "            fieldnames=[\"ID\", \"name\", \"position\", \"salary\", \"email\"]\n",
    "            writer = csv.DictWriter(f, fieldnames=fieldnames)\n",
    "            writer.writeheader()\n",
    "            for empID, details in self.employees.items():\n",
    "                row = {\"ID\":empID, **details}\n",
    "                writer.writerow(row)\n",
    "\n",
    "    def addEmployee(self):\n",
    "        empID = input(\"enter employee ID: \")\n",
    "        \n",
    "        #checking if ID already exists\n",
    "        if empID in self.employees:\n",
    "            print(\"employee ID already exists\")\n",
    "            return\n",
    "        empName = input(\"enter name: \")\n",
    "        empPosition = input(\"enter position: \")\n",
    "        \n",
    "        #ensuring salary is numeric\n",
    "        while True:\n",
    "            empSalary = input(\"enter salary: \")\n",
    "            if empSalary.isdigit():\n",
    "                break\n",
    "            print(\"invalid salary, must be numeric\")\n",
    "\n",
    "        empEmail = input(\"enter email: \")\n",
    "        self.employees[empID] = {\"name\": empName,\n",
    "                                  \"position\": empPosition,\n",
    "                                  \"salary\": empSalary,\n",
    "                                  \"email\": empEmail}\n",
    "        self.saveData()\n",
    "        print(\"Employee added successfully.\")\n",
    "\n",
    "    def viewEmployees(self):\n",
    "        for empID, details in self.employees.items():\n",
    "            print(f\"ID: {empID}\")\n",
    "            print(f\"name: {details['name']}\")\n",
    "            print(f\"position: {details['position']}\")\n",
    "            print(f\"salary: {details['salary']}\")\n",
    "            print(f\"email: {details['email']}\")\n",
    "\n",
    "    def updateEmployee(self):\n",
    "        empID = input(\"enter the ID of the employee you want to update: \")\n",
    "        employee = self.employees[empID]\n",
    "        print(\"press enter to skip a field without updating it\")\n",
    "        name = input(f\"enter new name ({employee['name']}): \") or employee['name']\n",
    "        position = input(f\"enter new position ({employee['position']}): \") or employee['position']\n",
    "        salary = input(f\"enter new salary ({employee['salary']}): \") or employee['salary']\n",
    "        email = input(f\"enter new email ({employee['email']}): \") or employee['email']\n",
    "        self.employees[empID] = {\"name\": name, \"position\": position, \"salary\": salary, \"email\": email}\n",
    "        self.saveData()\n",
    "        print(\"employee data updated successfully.\")\n",
    "\n",
    "    def deleteEmployee(self):\n",
    "        empID = input(\"Enter Employee ID to delete: \")\n",
    "        if empID in self.employees:\n",
    "            del self.employees[empID]\n",
    "            self.saveData()\n",
    "            print(\"employee deleted successfully\")\n",
    "\n",
    "    def searchEmployee(self):\n",
    "        empID = input(\"enter employee ID to search: \")\n",
    "        if empID in self.employees:\n",
    "            details = self.employees[empID]\n",
    "            print(f\"ID: {empID}\")\n",
    "            print(f\"name: {details['name']}\")\n",
    "            print(f\"position: {details['position']}\")\n",
    "            print(f\"salary: {details['salary']}\")\n",
    "            print(f\"email: {details['email']}\")\n",
    "\n",
    "    def run(self):\n",
    "        while True:\n",
    "            print(\"\\n--- Employee Manager ---\")\n",
    "            print(\"1. Add Employee\")\n",
    "            print(\"2. View All Employees\")\n",
    "            print(\"3. Update Employee\")\n",
    "            print(\"4. Delete Employee\")\n",
    "            print(\"5. Search Employee\")\n",
    "            print(\"6. Exit\")\n",
    "            choice = input(\"Enter choice: \")\n",
    "\n",
    "            if choice == \"1\":\n",
    "                self.addEmployee()\n",
    "            elif choice == \"2\":\n",
    "                self.viewEmployees()\n",
    "            elif choice == \"3\":\n",
    "                self.updateEmployee()\n",
    "            elif choice == \"4\":\n",
    "                self.deleteEmployee()\n",
    "            elif choice == \"5\":\n",
    "                self.searchEmployee()\n",
    "            elif choice == \"6\":\n",
    "                print(\"Exiting program...\")\n",
    "                break\n",
    "            else:\n",
    "                print(\"Invalid choice. Please try again.\")\n",
    "        \n",
    "\n",
    "\n",
    "\n",
    "manager = EmployeeManager()\n",
    "manager.run()"
   ]
  },
  {
   "cell_type": "code",
   "execution_count": null,
   "id": "df8b2d36-48e3-477c-bbc0-97b498719612",
   "metadata": {},
   "outputs": [],
   "source": []
  }
 ],
 "metadata": {
  "kernelspec": {
   "display_name": "Python [conda env:base] *",
   "language": "python",
   "name": "conda-base-py"
  },
  "language_info": {
   "codemirror_mode": {
    "name": "ipython",
    "version": 3
   },
   "file_extension": ".py",
   "mimetype": "text/x-python",
   "name": "python",
   "nbconvert_exporter": "python",
   "pygments_lexer": "ipython3",
   "version": "3.13.5"
  }
 },
 "nbformat": 4,
 "nbformat_minor": 5
}
